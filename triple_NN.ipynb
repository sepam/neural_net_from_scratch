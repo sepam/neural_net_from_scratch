{
 "cells": [
  {
   "cell_type": "code",
   "execution_count": 37,
   "metadata": {
    "collapsed": true,
    "deletable": true,
    "editable": true
   },
   "outputs": [],
   "source": [
    "import numpy as np"
   ]
  },
  {
   "cell_type": "code",
   "execution_count": 38,
   "metadata": {},
   "outputs": [],
   "source": [
    "x = np.array([[0, 0, 1],\n",
    "              [0, 1, 1],\n",
    "              [1, 0, 1],\n",
    "              [1, 1, 1]])\n",
    "\n",
    "y = np.array([[0],\n",
    "              [1],\n",
    "              [1],\n",
    "              [0]])"
   ]
  },
  {
   "cell_type": "code",
   "execution_count": 39,
   "metadata": {},
   "outputs": [],
   "source": [
    "# build the model\n",
    "\n",
    "num_epochs = 60000\n",
    "\n",
    "# initialize weights\n",
    "\n",
    "syn0 = 2*np.random.random((3,4)) - 1\n",
    "syn1 = 2*np.random.random((4,1)) - 1"
   ]
  },
  {
   "cell_type": "code",
   "execution_count": 40,
   "metadata": {
    "collapsed": false
   },
   "outputs": [
    {
     "name": "stdout",
     "output_type": "stream",
     "text": [
      "[[ 0.8560228   0.33765776  0.09137081  0.80696847]\n [-0.4948208  -0.96400122  0.60303951  0.28048321]\n [-0.62122946 -0.56272042 -0.35731922  0.40795668]]\n"
     ]
    }
   ],
   "source": [
    "print(syn0)"
   ]
  },
  {
   "cell_type": "code",
   "execution_count": 41,
   "metadata": {},
   "outputs": [
    {
     "name": "stdout",
     "output_type": "stream",
     "text": [
      "[[ 0.71834615]\n [-0.53312238]\n [ 0.94109216]\n [-0.36923394]]\n"
     ]
    }
   ],
   "source": [
    "print(syn1)"
   ]
  },
  {
   "cell_type": "code",
   "execution_count": 42,
   "metadata": {},
   "outputs": [],
   "source": [
    "def nonlin(x, deriv=False):\n",
    "    if (deriv==True):\n",
    "        return x * (1-x)\n",
    "    return 1/(1+np.exp(-x))"
   ]
  },
  {
   "cell_type": "code",
   "execution_count": 43,
   "metadata": {},
   "outputs": [
    {
     "name": "stdout",
     "output_type": "stream",
     "text": [
      "Error:0.500298520166\n"
     ]
    },
    {
     "name": "stdout",
     "output_type": "stream",
     "text": [
      "Error:0.00946489957859\n"
     ]
    },
    {
     "name": "stdout",
     "output_type": "stream",
     "text": [
      "Error:0.00652802494188\n"
     ]
    },
    {
     "name": "stdout",
     "output_type": "stream",
     "text": [
      "Error:0.00527197445295\n"
     ]
    },
    {
     "name": "stdout",
     "output_type": "stream",
     "text": [
      "Error:0.00453546433187\n"
     ]
    },
    {
     "name": "stdout",
     "output_type": "stream",
     "text": [
      "Error:0.00403795447917\n"
     ]
    }
   ],
   "source": [
    "# Train the model\n",
    "\n",
    "for j in range(num_epochs):\n",
    "    # feed forward through layers 0 (input), 1 (hidden), 2 (final/output)\n",
    "    layer_0 = x\n",
    "    layer_1 = nonlin(np.dot(layer_0, syn0))\n",
    "    layer_2 = nonlin(np.dot(layer_1, syn1))\n",
    "    \n",
    "    # How much did we miss the target value?\n",
    "    layer_2_error = y - layer_2\n",
    "    \n",
    "    if (j % 10000) == 0:\n",
    "        print('Error:' + str(np.mean(np.abs(layer_2_error))))\n",
    "        \n",
    "    \n",
    "    # In what direction is the target value?\n",
    "    layer_2_delta = layer_2_error * nonlin(layer_2, deriv=True)\n",
    "    \n",
    "    # How much did each layer_1 value contribute to layer_2_error?\n",
    "    layer_1_error = layer_2_delta.dot(syn1.T)\n",
    "    \n",
    "    layer_1_delta = layer_1_error * nonlin(layer_1, deriv=True)\n",
    "    \n",
    "    syn1 += layer_1.T.dot(layer_2_delta)\n",
    "    syn0 += layer_0.T.dot(layer_1_delta)"
   ]
  },
  {
   "cell_type": "code",
   "execution_count": null,
   "metadata": {},
   "outputs": [],
   "source": [
    ""
   ]
  }
 ],
 "metadata": {
  "kernelspec": {
   "display_name": "Python 3",
   "language": "python",
   "name": "python3"
  },
  "language_info": {
   "codemirror_mode": {
    "name": "ipython",
    "version": 3.0
   },
   "file_extension": ".py",
   "mimetype": "text/x-python",
   "name": "python",
   "nbconvert_exporter": "python",
   "pygments_lexer": "ipython3",
   "version": "3.5.2"
  }
 },
 "nbformat": 4,
 "nbformat_minor": 0
}